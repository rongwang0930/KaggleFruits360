{
 "cells": [
  {
   "cell_type": "markdown",
   "metadata": {},
   "source": [
    "# Kaggle Fruits 360 with CNN\n",
    "let's work with a <a href='https://en.wikipedia.org/wiki/Convolutional_neural_network'>Convolutional Neural Network</a> (CNN).\n",
    "You'll want to be comfortable with below theories:\n",
    "* convolutional layers\n",
    "* filters/kernels\n",
    "* pooling\n",
    "* depth, stride and zero-padding"
   ]
  },
  {
   "cell_type": "markdown",
   "metadata": {},
   "source": [
    "## Perform standard imports"
   ]
  },
  {
   "cell_type": "code",
   "execution_count": 141,
   "metadata": {},
   "outputs": [],
   "source": [
    "import shutil\n",
    "import torch\n",
    "import torch.nn as nn\n",
    "import torch.nn.functional as F\n",
    "from torch.utils.data import DataLoader\n",
    "\n",
    "from torchvision import datasets, transforms\n",
    "from torchvision.utils import make_grid\n",
    "import os\n",
    "import numpy as np\n",
    "import pandas as pd\n",
    "from sklearn.metrics import confusion_matrix\n",
    "import matplotlib.pyplot as plt\n",
    "from torchvision.datasets import ImageFolder"
   ]
  },
  {
   "cell_type": "markdown",
   "metadata": {},
   "source": [
    "## Define common methods"
   ]
  },
  {
   "cell_type": "code",
   "execution_count": 142,
   "metadata": {},
   "outputs": [],
   "source": [
    "def Check_CUDA():\n",
    "    no_cuda = False\n",
    "    is_cuda = not no_cuda and torch.cuda.is_available()\n",
    "    print(\"is_cuda = \", is_cuda)\n",
    "    # check if there is GPU\n",
    "    if is_cuda:\n",
    "        cuda_device = 0\n",
    "        torch.cuda.set_device(cuda_device)\n",
    "        torch.backends.cudnn.benchmark = True\n",
    "    kwargs = {'num_workers': 4, 'pin_memory': True} if is_cuda else {}\n",
    "    return is_cuda, kwargs\n",
    "\n",
    "\n",
    "\n",
    "def find_classes(dir):\n",
    "    image_classes = []\n",
    "    for file in os.scandir(dir):\n",
    "        if file.is_dir():\n",
    "            image_classes.append(file.name)\n",
    "    # sort image as scandir returned random order\n",
    "    image_classes.sort()        \n",
    "    return image_classes"
   ]
  },
  {
   "cell_type": "code",
   "execution_count": 143,
   "metadata": {},
   "outputs": [
    {
     "name": "stdout",
     "output_type": "stream",
     "text": [
      "['Apple Braeburn', 'Apple Crimson Snow', 'Apple Golden 1', 'Apple Golden 2', 'Apple Golden 3', 'Apple Granny Smith', 'Apple Pink Lady', 'Apple Red 1', 'Apple Red 2', 'Apple Red 3', 'Apple Red Delicious', 'Apple Red Yellow 1', 'Apple Red Yellow 2', 'Apricot', 'Avocado', 'Avocado ripe', 'Banana', 'Banana Lady Finger', 'Banana Red', 'Beetroot', 'Blueberry', 'Cactus fruit', 'Cantaloupe 1', 'Cantaloupe 2', 'Carambula', 'Cauliflower', 'Cherry 1', 'Cherry 2', 'Cherry Rainier', 'Cherry Wax Black', 'Cherry Wax Red', 'Cherry Wax Yellow', 'Chestnut', 'Clementine', 'Cocos', 'Corn', 'Corn Husk', 'Cucumber Ripe', 'Cucumber Ripe 2', 'Dates', 'Eggplant', 'Fig', 'Ginger Root', 'Granadilla', 'Grape Blue', 'Grape Pink', 'Grape White', 'Grape White 2', 'Grape White 3', 'Grape White 4', 'Grapefruit Pink', 'Grapefruit White', 'Guava', 'Hazelnut', 'Huckleberry', 'Kaki', 'Kiwi', 'Kohlrabi', 'Kumquats', 'Lemon', 'Lemon Meyer', 'Limes', 'Lychee', 'Mandarine', 'Mango', 'Mango Red', 'Mangostan', 'Maracuja', 'Melon Piel de Sapo', 'Mulberry', 'Nectarine', 'Nectarine Flat', 'Nut Forest', 'Nut Pecan', 'Onion Red', 'Onion Red Peeled', 'Onion White', 'Orange', 'Papaya', 'Passion Fruit', 'Peach', 'Peach 2', 'Peach Flat', 'Pear', 'Pear 2', 'Pear Abate', 'Pear Forelle', 'Pear Kaiser', 'Pear Monster', 'Pear Red', 'Pear Stone', 'Pear Williams', 'Pepino', 'Pepper Green', 'Pepper Orange', 'Pepper Red', 'Pepper Yellow', 'Physalis', 'Physalis with Husk', 'Pineapple', 'Pineapple Mini', 'Pitahaya Red', 'Plum', 'Plum 2', 'Plum 3', 'Pomegranate', 'Pomelo Sweetie', 'Potato Red', 'Potato Red Washed', 'Potato Sweet', 'Potato White', 'Quince', 'Rambutan', 'Raspberry', 'Redcurrant', 'Salak', 'Strawberry', 'Strawberry Wedge', 'Tamarillo', 'Tangelo', 'Tomato 1', 'Tomato 2', 'Tomato 3', 'Tomato 4', 'Tomato Cherry Red', 'Tomato Heart', 'Tomato Maroon', 'Tomato Yellow', 'Tomato not Ripened', 'Walnut', 'Watermelon']\n"
     ]
    }
   ],
   "source": [
    "path  = '/fruits-360'\n",
    "image_classes = find_classes(os.path.join(path, 'Training'))\n",
    "print(image_classes)"
   ]
  },
  {
   "cell_type": "markdown",
   "metadata": {},
   "source": [
    "## Load the Fruits360 dataset\n",
    "PyTorch load data using torchvision's ImageFolder\n",
    "Refer to:\n",
    "<a href='https://pytorch.org/docs/stable/data.html#torchvision.datasets.ImageFolder'><tt><strong>ImageFolder</strong></tt></a>.\n",
    "Refer for explanations of transformations, batch sizes and <a href='https://pytorch.org/docs/stable/data.html#torch.utils.data.DataLoader'><tt><strong>DataLoader</strong></tt></a>.\n"
   ]
  },
  {
   "cell_type": "code",
   "execution_count": 144,
   "metadata": {},
   "outputs": [],
   "source": [
    "transform = transforms.ToTensor()\n",
    "\n",
    "train_data = ImageFolder(root= os.path.join(path, 'Training'), transform=transform)\n",
    "test_data = ImageFolder(root=os.path.join(path, 'Test'), transform=transform)"
   ]
  },
  {
   "cell_type": "markdown",
   "metadata": {},
   "source": [
    "## Create loaders\n",
    "When working with images, we want relatively small batches; a batch size of 4 is not uncommon."
   ]
  },
  {
   "cell_type": "code",
   "execution_count": 145,
   "metadata": {},
   "outputs": [],
   "source": [
    "train_loader = DataLoader(train_data, batch_size=10, shuffle=True)\n",
    "test_loader = DataLoader(test_data, batch_size=10, shuffle=False)"
   ]
  },
  {
   "cell_type": "markdown",
   "metadata": {},
   "source": [
    "## Define a convolutional model\n",
    "CNN with input layer of 10000 (our flattened 100x100 images), and an output size representing 131 possible digits.\n",
    "This time we'll employ two convolutional layers and two pooling layers before feeding data through fully connected hidden layers to our output. The model follows CONV/RELU/POOL/CONV/RELU/POOL/FC/RELU/FC."
   ]
  },
  {
   "cell_type": "code",
   "execution_count": 146,
   "metadata": {},
   "outputs": [
    {
     "name": "stdout",
     "output_type": "stream",
     "text": [
      "torch.Size([1, 3, 100, 100])\n",
      "torch.Size([1, 8, 98, 98])\n",
      "torch.Size([1, 8, 49, 49])\n",
      "torch.Size([1, 16, 23, 23])\n",
      "torch.Size([1, 8464])\n"
     ]
    }
   ],
   "source": [
    "# Define layers\n",
    "# out_channels: filters,\n",
    "# nn.Conv2d(in_channels=3, out_channels=8, kernel_size=3,stride=1)\n",
    "conv1 = nn.Conv2d(3, 8, 3, 1)  # ----> 6 filters -----> pooling ----> conv2\n",
    "# arbitrary value for filters\n",
    "conv2 = nn.Conv2d(8, 16, 3, 1)\n",
    "\n",
    "# In[10]:\n",
    "\n",
    "\n",
    "# Grab the first record\n",
    "for i, (X_train, y_train) in enumerate(train_data):\n",
    "    break\n",
    "\n",
    "# In[11]:\n",
    "\n",
    "\n",
    "X_train.shape\n",
    "\n",
    "# In[12]:\n",
    "\n",
    "\n",
    "# Create a rank-4 tensor to be passed into the model\n",
    "# (train_loader will have done this already)\n",
    "\n",
    "x = X_train.view(1, 3, 100, 100)\n",
    "print(x.shape)\n",
    "\n",
    "# In[13]:\n",
    "\n",
    "\n",
    "# Perform the first convolution/activation\n",
    "x = F.relu(conv1(x))\n",
    "print(x.shape)  # [1, 8, 98, 98] ----> 98 = 100 - 3(kernel) + 1(stride)\n",
    "\n",
    "# In[14]:\n",
    "\n",
    "\n",
    "# Run the first pooling layer\n",
    "x = F.max_pool2d(x, 2, 2)\n",
    "print(x.shape)\n",
    "\n",
    "# In[15]:\n",
    "\n",
    "\n",
    "# Perform the second convolution/activation\n",
    "x = F.relu(conv2(x))\n",
    "# print(x.shape)\n",
    "\n",
    "# In[16]:\n",
    "\n",
    "\n",
    "# Run the second pooling layer\n",
    "x = F.max_pool2d(x, 2, 2)  # [1, 16, 23, 23] ---> 47/2=23.5\n",
    "# ( (pixel - 2)/2<pooling> - 2<kernel loss> ) /2\n",
    "# 100-2\n",
    "print(x.shape)\n",
    "\n",
    "# In[17]:\n",
    "\n",
    "\n",
    "((100 - 2) / 2 - 2) / 2\n",
    "\n",
    "# In[18]:\n",
    "\n",
    "\n",
    "x.shape\n",
    "\n",
    "# In[19]:\n",
    "\n",
    "\n",
    "# Flatten the data\n",
    "# -1: keep the first dimension, batch size\n",
    "x = x.view(-1, 16 * 23 * 23)\n",
    "print(x.shape)\n",
    "\n",
    "\n",
    "# <div class=\"alert alert-danger\"><strong>This is how the convolution output is passed into the fully connected layers.</strong></div>\n",
    "#\n",
    "# Now let's run the code."
   ]
  },
  {
   "cell_type": "code",
   "execution_count": 147,
   "metadata": {},
   "outputs": [],
   "source": [
    "class ConvolutionalNetwork(nn.Module):\n",
    "    def __init__(self):\n",
    "        super().__init__()\n",
    "        #nn.Conv2d(in_channels=3, out_channels=8, kernel_size=3,stride=1)\n",
    "        self.conv1 = nn.Conv2d(3, 8, 3, 1)\n",
    "        self.conv2 = nn.Conv2d(8, 16, 3, 1)\n",
    "        # 120 is arbitrary choice of how many nutron we want\n",
    "        self.fc1 = nn.Linear(16 * 23 * 23, 300)\n",
    "        self.fc2 = nn.Linear(300, 200)\n",
    "        self.fc3 = nn.Linear(200, 131)\n",
    "\n",
    "    def forward(self, X):\n",
    "        X = F.relu(self.conv1(X))\n",
    "        X = F.max_pool2d(X, 2, 2)\n",
    "        X = F.relu(self.conv2(X))\n",
    "        X = F.max_pool2d(X, 2, 2)\n",
    "        X = X.view(-1, 16 * 23 * 23)\n",
    "        X = F.relu(self.fc1(X))\n",
    "        X = F.relu(self.fc2(X))\n",
    "        X = self.fc3(X)\n",
    "        return F.log_softmax(X, dim=1)"
   ]
  },
  {
   "cell_type": "code",
   "execution_count": 148,
   "metadata": {},
   "outputs": [
    {
     "name": "stdout",
     "output_type": "stream",
     "text": [
      "is_cuda =  True\n"
     ]
    }
   ],
   "source": [
    "torch.manual_seed(42)\n",
    "model = ConvolutionalNetwork()\n",
    "is_cuda = Check_CUDA()\n",
    "if is_cuda:\n",
    "    model.cuda()"
   ]
  },
  {
   "cell_type": "code",
   "execution_count": 149,
   "metadata": {},
   "outputs": [],
   "source": [
    "def count_parameters(model):\n",
    "    params = [p.numel() for p in model.parameters() if p.requires_grad]\n",
    "    for item in params:\n",
    "        print(f'{item:>6}')\n",
    "    print(f'______\\n{sum(params):>6}')"
   ]
  },
  {
   "cell_type": "code",
   "execution_count": 150,
   "metadata": {},
   "outputs": [
    {
     "name": "stdout",
     "output_type": "stream",
     "text": [
      "   216\n",
      "     8\n",
      "  1152\n",
      "    16\n",
      "2539200\n",
      "   300\n",
      " 60000\n",
      "   200\n",
      " 26200\n",
      "   131\n",
      "______\n",
      "2627423\n"
     ]
    }
   ],
   "source": [
    "count_parameters(model)"
   ]
  },
  {
   "cell_type": "markdown",
   "metadata": {},
   "source": [
    "## Define loss function & optimizer"
   ]
  },
  {
   "cell_type": "code",
   "execution_count": 151,
   "metadata": {},
   "outputs": [],
   "source": [
    "criterion = nn.CrossEntropyLoss()\n",
    "optimizer = torch.optim.Adam(model.parameters(), lr=0.001)"
   ]
  },
  {
   "cell_type": "markdown",
   "metadata": {},
   "source": [
    "## Train the model\n",
    "This time we'll feed the data directly into the model without flattening it first."
   ]
  },
  {
   "cell_type": "code",
   "execution_count": 154,
   "metadata": {},
   "outputs": [
    {
     "name": "stdout",
     "output_type": "stream",
     "text": [
      "epoch:  0  batch:  600 [  6000/60000]  loss: 0.00001544  accuracy:  98.467%\n",
      "epoch:  0  batch: 1200 [ 12000/60000]  loss: 0.00002582  accuracy:  98.350%\n",
      "epoch:  0  batch: 1800 [ 18000/60000]  loss: 0.15783408  accuracy:  98.472%\n",
      "epoch:  0  batch: 2400 [ 24000/60000]  loss: 0.16792156  accuracy:  98.300%\n",
      "epoch:  0  batch: 3000 [ 30000/60000]  loss: 0.00008452  accuracy:  98.453%\n",
      "epoch:  0  batch: 3600 [ 36000/60000]  loss: 0.00342316  accuracy:  98.597%\n",
      "epoch:  0  batch: 4200 [ 42000/60000]  loss: 0.00088376  accuracy:  98.512%\n",
      "epoch:  0  batch: 4800 [ 48000/60000]  loss: 0.00350780  accuracy:  98.596%\n",
      "epoch:  0  batch: 5400 [ 54000/60000]  loss: 0.00560264  accuracy:  98.585%\n",
      "epoch:  0  batch: 6000 [ 60000/60000]  loss: 0.38959819  accuracy:  98.555%\n",
      "epoch:  0  batch: 6600 [ 66000/60000]  loss: 0.00000083  accuracy:  98.576%\n",
      "Epoch  0 --- test_correct: 0.9260026443367122\n",
      "epoch:  1  batch:  600 [  6000/60000]  loss: 0.00014017  accuracy:  99.133%\n",
      "epoch:  1  batch: 1200 [ 12000/60000]  loss: 0.00416909  accuracy:  98.858%\n",
      "epoch:  1  batch: 1800 [ 18000/60000]  loss: 0.09120134  accuracy:  98.989%\n",
      "epoch:  1  batch: 2400 [ 24000/60000]  loss: 0.00007962  accuracy:  98.729%\n",
      "epoch:  1  batch: 3000 [ 30000/60000]  loss: 0.13243856  accuracy:  98.753%\n",
      "epoch:  1  batch: 3600 [ 36000/60000]  loss: 0.00071944  accuracy:  98.836%\n",
      "epoch:  1  batch: 4200 [ 42000/60000]  loss: 0.00000848  accuracy:  98.912%\n",
      "epoch:  1  batch: 4800 [ 48000/60000]  loss: 0.00906891  accuracy:  98.904%\n",
      "epoch:  1  batch: 5400 [ 54000/60000]  loss: 0.00092096  accuracy:  98.785%\n",
      "epoch:  1  batch: 6000 [ 60000/60000]  loss: 0.00018688  accuracy:  98.842%\n",
      "epoch:  1  batch: 6600 [ 66000/60000]  loss: 0.00040517  accuracy:  98.826%\n",
      "Epoch  1 --- test_correct: 0.9130894667254297\n",
      "epoch:  2  batch:  600 [  6000/60000]  loss: 0.00002246  accuracy:  98.633%\n",
      "epoch:  2  batch: 1200 [ 12000/60000]  loss: 0.00000031  accuracy:  99.300%\n",
      "epoch:  2  batch: 1800 [ 18000/60000]  loss: 0.03120622  accuracy:  99.039%\n",
      "epoch:  2  batch: 2400 [ 24000/60000]  loss: 0.00017822  accuracy:  98.842%\n",
      "epoch:  2  batch: 3000 [ 30000/60000]  loss: 0.00052814  accuracy:  98.983%\n",
      "epoch:  2  batch: 3600 [ 36000/60000]  loss: 0.04093117  accuracy:  98.911%\n",
      "epoch:  2  batch: 4200 [ 42000/60000]  loss: 0.00042756  accuracy:  98.990%\n",
      "epoch:  2  batch: 4800 [ 48000/60000]  loss: 0.00515344  accuracy:  99.046%\n",
      "epoch:  2  batch: 5400 [ 54000/60000]  loss: 1.03003943  accuracy:  98.937%\n",
      "epoch:  2  batch: 6000 [ 60000/60000]  loss: 0.00004988  accuracy:  98.930%\n",
      "epoch:  2  batch: 6600 [ 66000/60000]  loss: 0.00000880  accuracy:  98.970%\n",
      "Epoch  2 --- test_correct: 0.890304098721904\n",
      "epoch:  3  batch:  600 [  6000/60000]  loss: 0.00005878  accuracy:  99.250%\n",
      "epoch:  3  batch: 1200 [ 12000/60000]  loss: 0.00001491  accuracy:  99.550%\n",
      "epoch:  3  batch: 1800 [ 18000/60000]  loss: 0.00871204  accuracy:  99.122%\n",
      "epoch:  3  batch: 2400 [ 24000/60000]  loss: 0.00000008  accuracy:  99.192%\n",
      "epoch:  3  batch: 3000 [ 30000/60000]  loss: 0.00010066  accuracy:  99.273%\n",
      "epoch:  3  batch: 3600 [ 36000/60000]  loss: 0.00000001  accuracy:  99.242%\n",
      "epoch:  3  batch: 4200 [ 42000/60000]  loss: 0.00000049  accuracy:  99.243%\n",
      "epoch:  3  batch: 4800 [ 48000/60000]  loss: 0.00007718  accuracy:  99.237%\n",
      "epoch:  3  batch: 5400 [ 54000/60000]  loss: 0.00136150  accuracy:  99.219%\n",
      "epoch:  3  batch: 6000 [ 60000/60000]  loss: 0.00000087  accuracy:  99.257%\n",
      "epoch:  3  batch: 6600 [ 66000/60000]  loss: 0.04609397  accuracy:  99.236%\n",
      "Epoch  3 --- test_correct: 0.9235345967386513\n",
      "epoch:  4  batch:  600 [  6000/60000]  loss: 0.00001149  accuracy:  99.117%\n",
      "epoch:  4  batch: 1200 [ 12000/60000]  loss: 0.00000010  accuracy:  99.025%\n",
      "epoch:  4  batch: 1800 [ 18000/60000]  loss: 0.00000014  accuracy:  99.261%\n",
      "epoch:  4  batch: 2400 [ 24000/60000]  loss: 0.00000204  accuracy:  99.175%\n",
      "epoch:  4  batch: 3000 [ 30000/60000]  loss: 0.00004892  accuracy:  99.167%\n",
      "epoch:  4  batch: 3600 [ 36000/60000]  loss: 0.45456141  accuracy:  99.217%\n",
      "epoch:  4  batch: 4200 [ 42000/60000]  loss: 0.00000342  accuracy:  99.167%\n",
      "epoch:  4  batch: 4800 [ 48000/60000]  loss: 0.00000000  accuracy:  99.229%\n",
      "epoch:  4  batch: 5400 [ 54000/60000]  loss: 0.00000035  accuracy:  99.219%\n",
      "epoch:  4  batch: 6000 [ 60000/60000]  loss: 0.00002082  accuracy:  99.192%\n",
      "epoch:  4  batch: 6600 [ 66000/60000]  loss: 0.00000045  accuracy:  99.205%\n",
      "Epoch  4 --- test_correct: 0.9427941824592332\n",
      "epoch:  5  batch:  600 [  6000/60000]  loss: 0.00000049  accuracy:  99.500%\n",
      "epoch:  5  batch: 1200 [ 12000/60000]  loss: 0.00000328  accuracy:  99.600%\n",
      "epoch:  5  batch: 1800 [ 18000/60000]  loss: 0.00000048  accuracy:  99.222%\n",
      "epoch:  5  batch: 2400 [ 24000/60000]  loss: 0.00000000  accuracy:  99.362%\n",
      "epoch:  5  batch: 3000 [ 30000/60000]  loss: 0.00020972  accuracy:  99.330%\n",
      "epoch:  5  batch: 3600 [ 36000/60000]  loss: 0.00029062  accuracy:  99.342%\n",
      "epoch:  5  batch: 4200 [ 42000/60000]  loss: 0.92748851  accuracy:  99.321%\n",
      "epoch:  5  batch: 4800 [ 48000/60000]  loss: 0.00000018  accuracy:  99.360%\n",
      "epoch:  5  batch: 5400 [ 54000/60000]  loss: 0.00000088  accuracy:  99.335%\n",
      "epoch:  5  batch: 6000 [ 60000/60000]  loss: 0.00000079  accuracy:  99.298%\n",
      "epoch:  5  batch: 6600 [ 66000/60000]  loss: 0.04766805  accuracy:  99.329%\n",
      "Epoch  5 --- test_correct: 0.8985015425297488\n",
      "epoch:  6  batch:  600 [  6000/60000]  loss: 0.00010278  accuracy:  99.050%\n",
      "epoch:  6  batch: 1200 [ 12000/60000]  loss: 0.00000211  accuracy:  99.408%\n",
      "epoch:  6  batch: 1800 [ 18000/60000]  loss: 0.00000000  accuracy:  99.594%\n",
      "epoch:  6  batch: 2400 [ 24000/60000]  loss: 0.00000048  accuracy:  99.367%\n",
      "epoch:  6  batch: 3000 [ 30000/60000]  loss: 0.00000000  accuracy:  99.423%\n",
      "epoch:  6  batch: 3600 [ 36000/60000]  loss: 0.00000000  accuracy:  99.444%\n",
      "epoch:  6  batch: 4200 [ 42000/60000]  loss: 0.46562156  accuracy:  99.469%\n",
      "epoch:  6  batch: 4800 [ 48000/60000]  loss: 0.00000000  accuracy:  99.404%\n",
      "epoch:  6  batch: 5400 [ 54000/60000]  loss: 0.00000007  accuracy:  99.378%\n",
      "epoch:  6  batch: 6000 [ 60000/60000]  loss: 0.00000000  accuracy:  99.402%\n",
      "epoch:  6  batch: 6600 [ 66000/60000]  loss: 0.00000008  accuracy:  99.456%\n",
      "Epoch  6 --- test_correct: 0.9369325694138387\n",
      "epoch:  7  batch:  600 [  6000/60000]  loss: 0.00002252  accuracy:  98.833%\n",
      "epoch:  7  batch: 1200 [ 12000/60000]  loss: 0.00000000  accuracy:  99.183%\n",
      "epoch:  7  batch: 1800 [ 18000/60000]  loss: 0.00000000  accuracy:  99.083%\n",
      "epoch:  7  batch: 2400 [ 24000/60000]  loss: 0.00034605  accuracy:  99.058%\n",
      "epoch:  7  batch: 3000 [ 30000/60000]  loss: 0.00000076  accuracy:  99.167%\n",
      "epoch:  7  batch: 3600 [ 36000/60000]  loss: 0.00000000  accuracy:  99.122%\n",
      "epoch:  7  batch: 4200 [ 42000/60000]  loss: 0.00000000  accuracy:  99.231%\n",
      "epoch:  7  batch: 4800 [ 48000/60000]  loss: 0.00000000  accuracy:  99.237%\n",
      "epoch:  7  batch: 5400 [ 54000/60000]  loss: 0.00000000  accuracy:  99.261%\n",
      "epoch:  7  batch: 6000 [ 60000/60000]  loss: 0.00007909  accuracy:  99.287%\n",
      "epoch:  7  batch: 6600 [ 66000/60000]  loss: 0.00000004  accuracy:  99.311%\n",
      "Epoch  7 --- test_correct: 0.8993829881004848\n",
      "epoch:  8  batch:  600 [  6000/60000]  loss: 0.00175293  accuracy:  99.317%\n",
      "epoch:  8  batch: 1200 [ 12000/60000]  loss: 0.00108375  accuracy:  99.467%\n",
      "epoch:  8  batch: 1800 [ 18000/60000]  loss: 0.00000000  accuracy:  99.333%\n",
      "epoch:  8  batch: 2400 [ 24000/60000]  loss: 0.00000000  accuracy:  99.467%\n",
      "epoch:  8  batch: 3000 [ 30000/60000]  loss: 0.00001265  accuracy:  99.530%\n",
      "epoch:  8  batch: 3600 [ 36000/60000]  loss: 0.00000000  accuracy:  99.356%\n",
      "epoch:  8  batch: 4200 [ 42000/60000]  loss: 0.00000005  accuracy:  99.419%\n",
      "epoch:  8  batch: 4800 [ 48000/60000]  loss: 0.00000262  accuracy:  99.415%\n",
      "epoch:  8  batch: 5400 [ 54000/60000]  loss: 0.00000000  accuracy:  99.457%\n",
      "epoch:  8  batch: 6000 [ 60000/60000]  loss: 0.00000000  accuracy:  99.413%\n",
      "epoch:  8  batch: 6600 [ 66000/60000]  loss: 0.00003289  accuracy:  99.408%\n",
      "Epoch  8 --- test_correct: 0.9239753195240193\n",
      "epoch:  9  batch:  600 [  6000/60000]  loss: 0.00000000  accuracy:  99.467%\n",
      "epoch:  9  batch: 1200 [ 12000/60000]  loss: 0.00000002  accuracy:  99.317%\n",
      "epoch:  9  batch: 1800 [ 18000/60000]  loss: 0.00000000  accuracy:  99.394%\n",
      "epoch:  9  batch: 2400 [ 24000/60000]  loss: 0.00000000  accuracy:  99.463%\n"
     ]
    },
    {
     "name": "stdout",
     "output_type": "stream",
     "text": [
      "epoch:  9  batch: 3000 [ 30000/60000]  loss: 0.00000000  accuracy:  99.347%\n",
      "epoch:  9  batch: 3600 [ 36000/60000]  loss: 0.00000000  accuracy:  99.414%\n",
      "epoch:  9  batch: 4200 [ 42000/60000]  loss: 0.00000000  accuracy:  99.490%\n",
      "epoch:  9  batch: 4800 [ 48000/60000]  loss: 0.00000026  accuracy:  99.365%\n",
      "epoch:  9  batch: 5400 [ 54000/60000]  loss: 0.00000000  accuracy:  99.383%\n",
      "epoch:  9  batch: 6000 [ 60000/60000]  loss: 0.00000000  accuracy:  99.440%\n",
      "epoch:  9  batch: 6600 [ 66000/60000]  loss: 0.00003038  accuracy:  99.470%\n",
      "Epoch  9 --- test_correct: 0.9020713970912296\n",
      "\n",
      "Duration: 429 seconds\n"
     ]
    }
   ],
   "source": [
    "\n",
    "import time\n",
    "\n",
    "start_time = time.time()\n",
    "\n",
    "epochs = 10\n",
    "train_losses = []\n",
    "test_losses = []\n",
    "train_correct = []\n",
    "test_correct = []\n",
    "\n",
    "\n",
    "best_val_acc = 0\n",
    "best_model_file_name = type(model).__name__ +'_best_checkpoint.pickle'\n",
    "\n",
    "\n",
    "for i in range(epochs):\n",
    "    trn_corr = 0\n",
    "    tst_corr = 0\n",
    "\n",
    "    # Run the training batches\n",
    "    for b, (X_train, y_train) in enumerate(train_loader):\n",
    "        b += 1\n",
    "\n",
    "        if is_cuda:\n",
    "            X_train, y_train = X_train.cuda(), y_train.cuda()\n",
    "            X_train = X_train.type('torch.cuda.FloatTensor')\n",
    "            y_train = y_train.type('torch.cuda.LongTensor')\n",
    "            y_train = y_train.squeeze()\n",
    "        else:\n",
    "            X_train = X_train.type('torch.DoubleTensor')\n",
    "            y_train = y_train.type('torch.LongTensor')\n",
    "\n",
    "        # Apply the model\n",
    "        y_pred = model(X_train)  # we don't flatten X-train here\n",
    "        loss = criterion(y_pred, y_train)\n",
    "\n",
    "        # Tally the number of correct predictions\n",
    "        predicted = torch.max(y_pred.data, 1)[1]\n",
    "        batch_corr = (predicted == y_train).sum()\n",
    "        trn_corr += batch_corr\n",
    "\n",
    "        # Update parameters\n",
    "        optimizer.zero_grad()\n",
    "        loss.backward()\n",
    "        optimizer.step()\n",
    "\n",
    "        # Print interim results\n",
    "        if b % 600 == 0:\n",
    "            print(\n",
    "                f'epoch: {i:2}  batch: {b:4} [{10 * b:6}/60000]  loss: {loss.item():10.8f}  accuracy: {trn_corr.item() * 100 / (10 * b):7.3f}%')\n",
    "\n",
    "    train_losses.append(loss)\n",
    "    train_correct.append(trn_corr)\n",
    "\n",
    "    # Run the testing batches\n",
    "    with torch.no_grad():\n",
    "        for bb, (X_test, y_test) in enumerate(test_loader):\n",
    "\n",
    "\n",
    "            if is_cuda:\n",
    "                X_test = X_test.cuda()\n",
    "                y_test = y_test.cuda()\n",
    "            # Apply the model\n",
    "            y_val = model(X_test)\n",
    "\n",
    "            # Tally the number of correct predictions\n",
    "            predicted = torch.max(y_val.data, 1)[1]\n",
    "            tst_corr += (predicted == y_test).sum()\n",
    "\n",
    "    loss = criterion(y_val, y_test)\n",
    "    test_losses.append(loss)\n",
    "    test_correct.append(tst_corr)\n",
    "    # if is_cuda:\n",
    "    #     test_correct = test_correct.cpu()\n",
    "    val_pred_acc =  test_correct[i].cpu().numpy()/(10*(bb + 1))\n",
    "    #print('bb: ', bb+1)\n",
    "    print('Epoch ',i,\"--- test_correct:\",val_pred_acc)\n",
    "\n",
    "    if val_pred_acc > best_val_acc:\n",
    "        best_val_acc = val_pred_acc\n",
    "\n",
    "        torch.save({'state_dict': model.state_dict(),\n",
    "                    'epoch': i,\n",
    "                    'best_val_pred_acc': val_pred_acc,\n",
    "                    'class2idx': image_classes,\n",
    "                    'Data_path': path}, best_model_file_name)\n",
    "\n",
    "\n",
    "\n",
    "\n",
    "print(f'\\nDuration: {time.time() - start_time:.0f} seconds')  # print the time elapsed"
   ]
  },
  {
   "cell_type": "markdown",
   "metadata": {},
   "source": [
    "## Insert 'train correct & loss', 'test correct & loss' record into pickle file."
   ]
  },
  {
   "cell_type": "code",
   "execution_count": 155,
   "metadata": {},
   "outputs": [
    {
     "name": "stdout",
     "output_type": "stream",
     "text": [
      "fruits-360\n"
     ]
    }
   ],
   "source": [
    "best_point = torch.load(best_model_file_name)\n",
    "best_point.update([('train_correct', train_correct),\n",
    "                        ('train_losses', train_losses),\n",
    "                   ('test_losses',test_losses),\n",
    "                   ('test_correct',test_correct)\n",
    "                   ])\n",
    "torch.save(best_point,best_model_file_name)\n",
    "\n",
    "\n",
    "t = time.strftime(\"%Y%m%d_%H-%M-%S\", time.localtime())   # time stamp for the file was saved\n",
    "exist_check_point = os.path.isfile(best_model_file_name)\n",
    "this_data = os.path.split(path)[-1]  # data folder\n",
    "print(this_data)"
   ]
  },
  {
   "cell_type": "markdown",
   "metadata": {},
   "source": [
    "## save the best model to result folder"
   ]
  },
  {
   "cell_type": "code",
   "execution_count": 156,
   "metadata": {},
   "outputs": [],
   "source": [
    "if exist_check_point:\n",
    "    new_check_point_name = this_data + '_channel-' + str(3) + '_test_acc-' + '{:.2f}'.format(best_val_acc*100)+ '_' + type(model).__name__ + 'final_pack' + '_' + t + '.pickle'\n",
    "    os.rename(best_model_file_name, new_check_point_name)"
   ]
  },
  {
   "cell_type": "markdown",
   "metadata": {},
   "source": [
    "## Plot the loss and accuracy comparisons"
   ]
  },
  {
   "cell_type": "code",
   "execution_count": 157,
   "metadata": {},
   "outputs": [
    {
     "name": "stdout",
     "output_type": "stream",
     "text": [
      "b+1: 6771\n",
      "bb+1: 2269\n"
     ]
    },
    {
     "data": {
      "image/png": "[encoded data removed]",
      "text/plain": [
       "<Figure size 432x288 with 2 Axes>"
      ]
     },
     "metadata": {
      "needs_background": "light"
     },
     "output_type": "display_data"
    }
   ],
   "source": [
    "print('b+1:', b+1)\n",
    "print('bb+1:', bb+1)\n",
    "# load the best \"model\" to model\n",
    "best_point = torch.load(new_check_point_name)\n",
    "model.load_state_dict(best_point['state_dict'])\n",
    "fig, axs = plt.subplots(nrows=2, ncols=1)\n",
    "axs[0].plot(train_losses, label='training loss')\n",
    "axs[0].plot(test_losses, label='validation loss')\n",
    "axs[0].title.set_text('Loss at the end of each epoch')\n",
    "axs[0].legend();\n",
    "axs[0].grid(True)\n",
    "\n",
    "axs[1].plot([t /6771*10  for t in train_correct], label='training accuracy')\n",
    "axs[1].plot([t /2269*10  for t in test_correct], label='validation accuracy')\n",
    "axs[1].title.set_text('Accuracy at the end of each epoch')\n",
    "axs[1].legend();\n",
    "axs[1].grid(True)\n",
    "axs[1].set_xlabel('Epoch', fontsize=10)\n",
    "\n",
    "fig.tight_layout()\n",
    "plt.show()"
   ]
  },
  {
   "cell_type": "markdown",
   "metadata": {},
   "source": [
    "# Evaluate the Test data"
   ]
  },
  {
   "cell_type": "code",
   "execution_count": 158,
   "metadata": {},
   "outputs": [
    {
     "name": "stdout",
     "output_type": "stream",
     "text": [
      "Test accuracy: 21392/22688 =  94.288%\n"
     ]
    }
   ],
   "source": [
    "test_load_all = DataLoader(test_data, batch_size=5000, shuffle=False)\n",
    "with torch.no_grad():\n",
    "    correct = 0\n",
    "    for X_test, y_test in test_load_all:\n",
    "        if is_cuda:\n",
    "            X_test, y_test = X_test.cuda(), y_test.cuda()\n",
    "            y_test = y_test.squeeze()\n",
    "        y_val = model(X_test)  # we don't flatten the data this time\n",
    "        predicted = torch.max(y_val, 1)[1]\n",
    "        correct += (predicted == y_test).sum()\n",
    "print(f'Test accuracy: {correct.item()}/{len(test_data)} = {correct.item() * 100 / (len(test_data)):7.3f}%')"
   ]
  },
  {
   "cell_type": "markdown",
   "metadata": {},
   "source": [
    "## Display the confusion matrix"
   ]
  },
  {
   "cell_type": "code",
   "execution_count": 159,
   "metadata": {},
   "outputs": [
    {
     "name": "stdout",
     "output_type": "stream",
     "text": [
      "[[   0    1    2    3    4    5    6    7    8    9]]\n",
      "\n",
      "[[   0    0    0    0    0    0    0    1    0    0    0    0    0    0\n",
      "     0    0    0    0    0    0    0]\n",
      " [   0    0    0    0    0    0    0    1    0    0    0    0    0    0\n",
      "     0    0    0    0    0    0    0]\n",
      " [   0    0    0    0    0    0    0    8    0    0    0    0    0    0\n",
      "     0    0    0    0    0    0    0]\n",
      " [   0    0    0    0    0    0    0    0    0    0    0    0    0    0\n",
      "     0    0    0    0   29    0    0]\n",
      " [   0    0    0    0    0    0    0    0    0    0    0    0    0    0\n",
      "     0   11    0    0    0    0    0]\n",
      " [   0    0    0    0    0    0    0   22    0    0    0    0    0    0\n",
      "     0    0    0    0    0    0    0]\n",
      " [   0    0    0    0    0    0    0    1    0    0    0    0    0    0\n",
      "     0    0    0    0    0    0    0]\n",
      " [   0    0    0    0    0    0    0  209    0    0    0    0    0    0\n",
      "     0    0    0    0    0    0    0]\n",
      " [   0    0    0    0    0    0    0    0  166    0    0    0    0    0\n",
      "     0    0    0    0    0    0    0]\n",
      " [   0    0    0    0    0    0    0    0    0  166    0    0    0    0\n",
      "     0    0    0    0    0    0    0]\n",
      " [   0    0    0    0    0    0    0    0    0    0  246    0    0    0\n",
      "     0    0    0    0    0    0    0]\n",
      " [   0    0    0    0    0    0    0    0    0    0    0  225    0    0\n",
      "     0    0    0    0    0    0    0]\n",
      " [   0    0    0    0    0    0    0    0    0    0    0    0  246    0\n",
      "     0    0    0    0    0    0    0]\n",
      " [   0    0    0    0    0    0    0    0    0    0    0    0    0  160\n",
      "     0    0    0    0    0    0    0]\n",
      " [   0    0    0    0    0    0    0    0    0    0    0    0    0    0\n",
      "   164    0    0    0    0    0    0]\n",
      " [   0    0    0    0    0    0    0    0    0    0    0    0    0    0\n",
      "     0  217    0    0    0    0    0]\n",
      " [   0    0    0    0    0    0    0    1    0    0    0    0    0    0\n",
      "     0    0  127    0    0    0    0]\n",
      " [   0    0    0    0    0    0    0    0    0    0    0    0    0    0\n",
      "     0    0    0  153    0    0    0]\n",
      " [   0    0    0    0    0    0    0    0    0    0    0    0    0    0\n",
      "     0    0    0    0  129    0    0]\n",
      " [   0    0    0    0    0    0    0    0    0    0    0    0    0    0\n",
      "     0    0    0    0    0  249    0]\n",
      " [   0    0    0    0    0    0    0    0    0    0    0    0    0    0\n",
      "     0    0    0    0    0    0  157]]\n"
     ]
    }
   ],
   "source": [
    "# print a row of values for reference\n",
    "np.set_printoptions(formatter=dict(int=lambda x: f'{x:4}'))\n",
    "print(np.arange(10).reshape(1, 10))\n",
    "print()\n",
    "\n",
    "# print the confusion matrix\n",
    "if is_cuda:\n",
    "    predicted = predicted.cpu()\n",
    "    y_test = y_test.cpu()\n",
    "print(confusion_matrix(predicted.view(-1), y_test.view(-1)))"
   ]
  },
  {
   "cell_type": "markdown",
   "metadata": {},
   "source": [
    "# Exam missed predictions\n",
    "We can track the index positions of \"missed\" predictions, and extract the corresponding image and label. We'll do this in batches to save screen space."
   ]
  },
  {
   "cell_type": "code",
   "execution_count": 160,
   "metadata": {},
   "outputs": [
    {
     "name": "stdout",
     "output_type": "stream",
     "text": [
      "74\n"
     ]
    },
    {
     "data": {
      "text/plain": [
       "array([  37,   40,   48,   63,   79,  161,  172,  173,  174,  175])"
      ]
     },
     "execution_count": 160,
     "metadata": {},
     "output_type": "execute_result"
    }
   ],
   "source": [
    "misses = np.array([])\n",
    "for i in range(len(predicted.view(-1))):\n",
    "    if predicted[i] != y_test[i]:\n",
    "        misses = np.append(misses, i).astype('int64')\n",
    "\n",
    "# Display the number of misses\n",
    "print(len(misses))\n",
    "\n",
    "\n",
    "# Display the first 10 index positions\n",
    "misses[:10]"
   ]
  },
  {
   "cell_type": "code",
   "execution_count": 161,
   "metadata": {},
   "outputs": [
    {
     "name": "stdout",
     "output_type": "stream",
     "text": [
      "Index: [  37   40   48   63   79  161  172  173  174  175  176]\n",
      "Label: [ 117  117  117  117  117  117  117  117  117  117  117]\n",
      "Guess: [ 108  108   10  108  112   32  126   53   53   53   53]\n"
     ]
    },
    {
     "data": {
      "image/png": "[encoded data removed]",
      "text/plain": [
       "<Figure size 720x288 with 1 Axes>"
      ]
     },
     "metadata": {
      "needs_background": "light"
     },
     "output_type": "display_data"
    }
   ],
   "source": [
    "# Set up an iterator to feed batched rows\n",
    "r = 12  # row size\n",
    "row = iter(np.array_split(misses, len(misses) // r + 1))\n",
    "\n",
    "# Now that everything is set up, run and re-run the cell below to view all of the missed predictions.<br>\n",
    "# Use <kbd>Ctrl+Enter</kbd> to remain on the cell between runs. You'll see a <tt>StopIteration</tt> once all the misses have been seen.\n",
    "\n",
    "\n",
    "nextrow = next(row)\n",
    "print(\"Index:\", nextrow)\n",
    "print(\"Label:\", y_test.index_select(0, torch.tensor(nextrow)).numpy())\n",
    "print(\"Guess:\", predicted.index_select(0, torch.tensor(nextrow)).numpy())\n",
    "if is_cuda:\n",
    "    X_test = X_test.cpu()\n",
    "images = X_test.index_select(0, torch.tensor(nextrow))\n",
    "im = make_grid(images, nrow=r)\n",
    "plt.figure(figsize=(10, 4))\n",
    "plt.imshow(np.transpose(im.numpy(), (1, 2, 0)))\n",
    "plt.show()"
   ]
  },
  {
   "cell_type": "markdown",
   "metadata": {},
   "source": [
    "# Run a new image through the model\n",
    "We can also pass a single image through the model to obtain a prediction.\n",
    "Pick a number from 0 to 9999, assign it to \"x\", and we'll use that value to select a number from the Fruits360 test set."
   ]
  },
  {
   "cell_type": "code",
   "execution_count": 162,
   "metadata": {},
   "outputs": [
    {
     "name": "stdout",
     "output_type": "stream",
     "text": [
      "torch.Size([3, 100, 100])\n"
     ]
    },
    {
     "data": {
      "image/png": "[encoded data removed]",
      "text/plain": [
       "<Figure size 720x288 with 1 Axes>"
      ]
     },
     "metadata": {
      "needs_background": "light"
     },
     "output_type": "display_data"
    },
    {
     "name": "stdout",
     "output_type": "stream",
     "text": [
      "Predicted value: 0 , Predicted Class: Apple Braeburn\n"
     ]
    }
   ],
   "source": [
    "\n",
    "x = 1\n",
    "image = test_data[x][0] \n",
    "#print(image.shape)\n",
    "\n",
    "im = make_grid(image, nrow=1)\n",
    "print(image.shape)\n",
    "plt.figure(figsize=(10, 4))\n",
    "plt.imshow(np.transpose(im.numpy(), (1, 2, 0)))\n",
    "plt.show()\n",
    "# In[32]:\n",
    "\n",
    "\n",
    "model.eval()\n",
    "with torch.no_grad():\n",
    "    if is_cuda:\n",
    "        new_pred = model(test_data[x][0].view(1, 3, 100, 100).cuda()).argmax()\n",
    "        new_pred = new_pred.cpu()\n",
    "    else:\n",
    "        new_pred = model(test_data[x][0].view(1,3, 100, 100)).argmax()\n",
    "print(\"Predicted value:\",new_pred.item(), ', Predicted Class:', image_classes[new_pred.item()])\n"
   ]
  }
 ],
 "metadata": {
  "kernelspec": {
   "display_name": "Python 3",
   "language": "python",
   "name": "python3"
  },
  "language_info": {
   "codemirror_mode": {
    "name": "ipython",
    "version": 3
   },
   "file_extension": ".py",
   "mimetype": "text/x-python",
   "name": "python",
   "nbconvert_exporter": "python",
   "pygments_lexer": "ipython3",
   "version": "3.7.3"
  }
 },
 "nbformat": 4,
 "nbformat_minor": 2
}
